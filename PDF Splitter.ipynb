{
 "cells": [
  {
   "cell_type": "markdown",
   "metadata": {},
   "source": [
    "# Back-end"
   ]
  },
  {
   "cell_type": "code",
   "execution_count": null,
   "metadata": {},
   "outputs": [],
   "source": [
    "!pip install PyPdf2"
   ]
  },
  {
   "cell_type": "code",
   "execution_count": null,
   "metadata": {},
   "outputs": [],
   "source": [
    "from PyPDF2 import PdfFileWriter,PdfFileReader"
   ]
  },
  {
   "cell_type": "code",
   "execution_count": null,
   "metadata": {},
   "outputs": [],
   "source": [
    "def cropper(start,end,file):\n",
    "    inputPdf =PdfFileReader(open(file,\"rb\"))\n",
    "    outPdf =PdfFileWriter()\n",
    "    \n",
    "    ostream = open(file.split(\".\")[0]+\"cropped\"+\".pdf\",\"wb\")\n",
    "    while start<=end:\n",
    "        outPdf.addPage(inputPdf.getPage(start))\n",
    "        outPdf.write(ostream)\n",
    "        start+=1\n",
    "    ostream.close"
   ]
  },
  {
   "cell_type": "code",
   "execution_count": null,
   "metadata": {},
   "outputs": [],
   "source": [
    "cropper(1,3,\"sample.pdf\")"
   ]
  },
  {
   "cell_type": "markdown",
   "metadata": {},
   "source": [
    "# Front-end"
   ]
  },
  {
   "cell_type": "code",
   "execution_count": null,
   "metadata": {},
   "outputs": [],
   "source": [
    "from flask import  *\n",
    "import pdfsplitter\n",
    "app =Flask(__name__)\n",
    "\n",
    "@app.route(\"/\")\n",
    "def upload():\n",
    "\treturn render_template(\"file_upload.html\")\n",
    "\n",
    "@app.route(\"/success\",methods =[\"POST\"])\n",
    "def success():\n",
    "\tglobal st\n",
    "\tglobal en\n",
    "\tglobal file\n",
    "\tst = int(request.form['start'])\n",
    "\ten = int(request.form['end'])\n",
    "\tf = request.files['file']\n",
    "\tfile = f.filename\n",
    "\tf.save(file)\n",
    "\treturn render_template(\"success.html\",start=st,end=en,name=file)\n",
    "\n",
    "@app.route(\"/convert\")\n",
    "def cropper():\n",
    "\tpdfsplitter.cropper(st,en,file)\n",
    "\treturn render_template(\"download.html\")\n",
    "\n",
    "@app.route(\"/download\")\n",
    "def download():\n",
    "\tfilename =file.split(\".\")[0]+\"cropped.pdf\"\n",
    "\treturn send_file(filename,as_attachment=True)\n",
    "\n",
    "if __name__ == '__main__':\n",
    "\tapp.run(debug=True)"
   ]
  },
  {
   "cell_type": "markdown",
   "metadata": {},
   "source": [
    "# HTML templates"
   ]
  },
  {
   "cell_type": "markdown",
   "metadata": {},
   "source": [
    "### file_upload.html"
   ]
  },
  {
   "cell_type": "code",
   "execution_count": null,
   "metadata": {},
   "outputs": [],
   "source": [
    "<html>\n",
    "<head>\n",
    "\t\n",
    "</head>\n",
    "\n",
    "<body bgcolor = \"#b8bdc4\">\n",
    "<div align = \"center\">\n",
    "\t<h1> PDF Splitter</h1>\n",
    "\t<hr><br>\n",
    "\t<form action =\"/success\" method =\"post\" enctype=\"multipart/form-data\">\n",
    "\t\tStart Page :<br>\n",
    "\t\t<input type =\"text\" name=\"start\" required><br><br>\n",
    "\t\tEnd Page :<br>\n",
    "\t\t<input type =\"text\" name=\"end\" required><br><br>\n",
    "\t\tChoose File:<br>\n",
    "\t\t<input type=\"file\" name=\"file\" required/><br><br>\n",
    "\t\t<input type=\"submit\" value=\"Upload\">\n",
    "\t</form>\n",
    "</div>\n",
    "</body>\n",
    "</html>\t"
   ]
  },
  {
   "cell_type": "markdown",
   "metadata": {},
   "source": [
    "### success.html"
   ]
  },
  {
   "cell_type": "code",
   "execution_count": null,
   "metadata": {},
   "outputs": [],
   "source": [
    "<html>\n",
    "<head>\n",
    "\t<title>Success</title>\n",
    "</head>\n",
    "<body bgcolor=\"#aecaf2\">\n",
    "<p>File Uploaded Successfully</p>\n",
    "<p> File name: {{name}}</p>\n",
    "<p> Do u want to extract pages from {{start}} to {{end}}?</p>\n",
    "<br>\n",
    "<form method=\"get\" action= \"/convert\">\n",
    "\t<input type=\"submit\" value =\"Extract!\">\n",
    "</form>\n",
    "</body>\n",
    "</html>"
   ]
  },
  {
   "cell_type": "markdown",
   "metadata": {},
   "source": [
    "### download.html"
   ]
  },
  {
   "cell_type": "code",
   "execution_count": null,
   "metadata": {},
   "outputs": [],
   "source": [
    "<!DOCTYPE html>\n",
    "<html lang =\"en\">\n",
    "<head>\n",
    "\t<meta charset=\"UTF-8\">\n",
    "\t<title>Title</title>\n",
    "</head>\n",
    "<body bgcolor = \"#f497e4\">\n",
    "<form action=\"/download\" method =\"get\">\n",
    "\t<p>Successfully Extracted</p>\n",
    "\t<p>Download Here!</p>\n",
    "\t<input type=\"submit\" value=\"Download\">\n",
    "</form>\n",
    "</body>\n",
    "</html>"
   ]
  }
 ],
 "metadata": {
  "kernelspec": {
   "display_name": "Python 3",
   "language": "python",
   "name": "python3"
  },
  "language_info": {
   "codemirror_mode": {
    "name": "ipython",
    "version": 3
   },
   "file_extension": ".py",
   "mimetype": "text/x-python",
   "name": "python",
   "nbconvert_exporter": "python",
   "pygments_lexer": "ipython3",
   "version": "3.7.3"
  }
 },
 "nbformat": 4,
 "nbformat_minor": 2
}
